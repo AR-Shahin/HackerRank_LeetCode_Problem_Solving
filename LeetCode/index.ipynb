{
 "cells": [
  {
   "cell_type": "code",
   "execution_count": 42,
   "id": "d0d6baa2",
   "metadata": {},
   "outputs": [
    {
     "name": "stdout",
     "output_type": "stream",
     "text": [
      "2\n"
     ]
    }
   ],
   "source": [
    "\n",
    "class Solution(object):\n",
    "    def getCommon(self, nums1, nums2):\n",
    "        t = []\n",
    "        for i in nums1:\n",
    "            for j in nums2:\n",
    "                if i == j: t.append(i)\n",
    "        return min(t)\n",
    "        \n",
    "        \n",
    "s = Solution()\n",
    "nums1 = [1,2,3]\n",
    "nums2 = [2,4]\n",
    "print(s.getCommon(nums1,nums2))\n",
    "\n",
    "\n"
   ]
  },
  {
   "cell_type": "code",
   "execution_count": null,
   "id": "73731e72",
   "metadata": {},
   "outputs": [],
   "source": []
  },
  {
   "cell_type": "code",
   "execution_count": null,
   "id": "24d502ce",
   "metadata": {},
   "outputs": [],
   "source": []
  }
 ],
 "metadata": {
  "kernelspec": {
   "display_name": "Python 3 (ipykernel)",
   "language": "python",
   "name": "python3"
  },
  "language_info": {
   "codemirror_mode": {
    "name": "ipython",
    "version": 3
   },
   "file_extension": ".py",
   "mimetype": "text/x-python",
   "name": "python",
   "nbconvert_exporter": "python",
   "pygments_lexer": "ipython3",
   "version": "3.9.15"
  }
 },
 "nbformat": 4,
 "nbformat_minor": 5
}
