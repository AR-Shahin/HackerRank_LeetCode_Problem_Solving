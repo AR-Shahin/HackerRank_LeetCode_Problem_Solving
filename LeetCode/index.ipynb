{
 "cells": [
  {
   "cell_type": "code",
   "execution_count": 35,
   "id": "79df7af7",
   "metadata": {},
   "outputs": [
    {
     "name": "stdout",
     "output_type": "stream",
     "text": [
      "[7, 1, 3, 9]\n"
     ]
    }
   ],
   "source": [
    "\n",
    "class Solution(object):\n",
    "    def separateDigits(self, nums):\n",
    "        t = []\n",
    "        \n",
    "        nums = [[t.append(j) for j in str(i)] for i in nums]\n",
    "        \n",
    "        return [int(i) for i in t]\n",
    "        \n",
    "        \n",
    "s = Solution()\n",
    "nums = [7,1,3,9]\n",
    "print(s.separateDigits(nums))\n",
    "\n",
    "\n"
   ]
  },
  {
   "cell_type": "code",
   "execution_count": null,
   "id": "feaed164",
   "metadata": {},
   "outputs": [],
   "source": []
  },
  {
   "cell_type": "code",
   "execution_count": null,
   "id": "a6186b64",
   "metadata": {},
   "outputs": [],
   "source": []
  }
 ],
 "metadata": {
  "kernelspec": {
   "display_name": "Python 3 (ipykernel)",
   "language": "python",
   "name": "python3"
  },
  "language_info": {
   "codemirror_mode": {
    "name": "ipython",
    "version": 3
   },
   "file_extension": ".py",
   "mimetype": "text/x-python",
   "name": "python",
   "nbconvert_exporter": "python",
   "pygments_lexer": "ipython3",
   "version": "3.9.15"
  }
 },
 "nbformat": 4,
 "nbformat_minor": 5
}
