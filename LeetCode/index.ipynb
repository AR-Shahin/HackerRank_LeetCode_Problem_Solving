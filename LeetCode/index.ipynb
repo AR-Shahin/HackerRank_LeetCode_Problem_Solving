{
 "cells": [
  {
   "cell_type": "code",
   "execution_count": 3,
   "id": "d599c1a1",
   "metadata": {},
   "outputs": [
    {
     "name": "stdout",
     "output_type": "stream",
     "text": [
      "1\n"
     ]
    }
   ],
   "source": [
    "\n",
    "class Solution():\n",
    "    def maximumValue(self, strs):\n",
    "        t = []\n",
    "        for s in strs:\n",
    "            try:\n",
    "                a = int(s)\n",
    "                t.append(a)\n",
    "            except:\n",
    "                t.append(len(s))\n",
    "                \n",
    "        return max(t)\n",
    "                \n",
    "    \n",
    "        \n",
    "        \n",
    "        \n",
    "s = Solution()\n",
    "strs = [\"alic3\",\"bob\",\"3\",\"4\",\"00000\"]\n",
    "\n",
    "print(s.maximumValue(strs))\n",
    "\n",
    "\n"
   ]
  },
  {
   "cell_type": "code",
   "execution_count": null,
   "id": "91966aea",
   "metadata": {},
   "outputs": [],
   "source": []
  },
  {
   "cell_type": "code",
   "execution_count": null,
   "id": "d4d9e5f2",
   "metadata": {},
   "outputs": [],
   "source": []
  },
  {
   "cell_type": "code",
   "execution_count": null,
   "id": "38ee87e3",
   "metadata": {},
   "outputs": [],
   "source": []
  }
 ],
 "metadata": {
  "kernelspec": {
   "display_name": "Python 3 (ipykernel)",
   "language": "python",
   "name": "python3"
  },
  "language_info": {
   "codemirror_mode": {
    "name": "ipython",
    "version": 3
   },
   "file_extension": ".py",
   "mimetype": "text/x-python",
   "name": "python",
   "nbconvert_exporter": "python",
   "pygments_lexer": "ipython3",
   "version": "3.9.15"
  }
 },
 "nbformat": 4,
 "nbformat_minor": 5
}
