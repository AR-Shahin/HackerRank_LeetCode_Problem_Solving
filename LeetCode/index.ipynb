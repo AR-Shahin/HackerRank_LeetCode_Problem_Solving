{
 "cells": [
  {
   "cell_type": "code",
   "execution_count": 51,
   "id": "d599c1a1",
   "metadata": {},
   "outputs": [
    {
     "name": "stdout",
     "output_type": "stream",
     "text": [
      "4\n"
     ]
    }
   ],
   "source": [
    "\n",
    "class Solution():\n",
    "    def countDigits(self, num):\n",
    "        t = []\n",
    "        [t.append(int(i)) for i in str(num)]\n",
    "        \n",
    "        c = 0 \n",
    "        for i in t:\n",
    "            if num % i == 0: c += 1\n",
    "        return c\n",
    "    \n",
    "        \n",
    "        \n",
    "        \n",
    "s = Solution()\n",
    "num = 1248\n",
    "print(s.countDigits(num))\n",
    "\n",
    "\n"
   ]
  },
  {
   "cell_type": "code",
   "execution_count": null,
   "id": "91966aea",
   "metadata": {},
   "outputs": [],
   "source": []
  },
  {
   "cell_type": "code",
   "execution_count": null,
   "id": "d4d9e5f2",
   "metadata": {},
   "outputs": [],
   "source": []
  },
  {
   "cell_type": "code",
   "execution_count": null,
   "id": "38ee87e3",
   "metadata": {},
   "outputs": [],
   "source": []
  }
 ],
 "metadata": {
  "kernelspec": {
   "display_name": "Python 3 (ipykernel)",
   "language": "python",
   "name": "python3"
  },
  "language_info": {
   "codemirror_mode": {
    "name": "ipython",
    "version": 3
   },
   "file_extension": ".py",
   "mimetype": "text/x-python",
   "name": "python",
   "nbconvert_exporter": "python",
   "pygments_lexer": "ipython3",
   "version": "3.9.15"
  }
 },
 "nbformat": 4,
 "nbformat_minor": 5
}
