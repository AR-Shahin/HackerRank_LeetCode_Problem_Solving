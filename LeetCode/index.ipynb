{
 "cells": [
  {
   "cell_type": "code",
   "execution_count": 2,
   "id": "d599c1a1",
   "metadata": {},
   "outputs": [
    {
     "name": "stdout",
     "output_type": "stream",
     "text": [
      "[0, 0, 0, 0]\n"
     ]
    }
   ],
   "source": [
    "\n",
    "class Solution():\n",
    "    def smallerNumbersThanCurrent(self, nums):\n",
    "        t = []\n",
    "        \n",
    "        for n in nums:\n",
    "            c = 0\n",
    "            for j in nums:\n",
    "                if n > j:\n",
    "                    c += 1\n",
    "            t.append(c)   \n",
    "           \n",
    "                \n",
    "        return t\n",
    "        \n",
    "        \n",
    "        \n",
    "s = Solution()\n",
    "nums = [7,7,7,7]\n",
    "\n",
    "print(s.smallerNumbersThanCurrent(nums))\n",
    "\n",
    "\n"
   ]
  },
  {
   "cell_type": "code",
   "execution_count": null,
   "id": "91966aea",
   "metadata": {},
   "outputs": [],
   "source": [
    "nums = [8,1,2,2,3]\n",
    "a = nums.count()"
   ]
  },
  {
   "cell_type": "code",
   "execution_count": null,
   "id": "d4d9e5f2",
   "metadata": {},
   "outputs": [],
   "source": []
  },
  {
   "cell_type": "code",
   "execution_count": null,
   "id": "38ee87e3",
   "metadata": {},
   "outputs": [],
   "source": []
  }
 ],
 "metadata": {
  "kernelspec": {
   "display_name": "Python 3 (ipykernel)",
   "language": "python",
   "name": "python3"
  },
  "language_info": {
   "codemirror_mode": {
    "name": "ipython",
    "version": 3
   },
   "file_extension": ".py",
   "mimetype": "text/x-python",
   "name": "python",
   "nbconvert_exporter": "python",
   "pygments_lexer": "ipython3",
   "version": "3.9.15"
  }
 },
 "nbformat": 4,
 "nbformat_minor": 5
}
