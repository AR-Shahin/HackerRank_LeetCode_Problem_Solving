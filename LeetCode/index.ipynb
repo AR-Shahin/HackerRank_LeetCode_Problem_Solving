{
 "cells": [
  {
   "cell_type": "code",
   "execution_count": 36,
   "id": "79d828c0",
   "metadata": {},
   "outputs": [
    {
     "name": "stdout",
     "output_type": "stream",
     "text": [
      "[1, 1, 1]\n"
     ]
    }
   ],
   "source": [
    "\n",
    "class Solution(object):\n",
    "    def alternateDigitSum(self, n):\n",
    "        n = [int (i) for i in str(n)]\n",
    "        t = 0\n",
    "        for i in range(len(n)):\n",
    "            \n",
    "            t += \n",
    "        return n\n",
    "        \n",
    "        \n",
    "s = Solution()\n",
    "n = 111\n",
    "print(s.alternateDigitSum(n))\n",
    "\n",
    "\n"
   ]
  },
  {
   "cell_type": "code",
   "execution_count": null,
   "id": "98a5b875",
   "metadata": {},
   "outputs": [],
   "source": []
  },
  {
   "cell_type": "code",
   "execution_count": null,
   "id": "1aea522c",
   "metadata": {},
   "outputs": [],
   "source": []
  }
 ],
 "metadata": {
  "kernelspec": {
   "display_name": "Python 3 (ipykernel)",
   "language": "python",
   "name": "python3"
  },
  "language_info": {
   "codemirror_mode": {
    "name": "ipython",
    "version": 3
   },
   "file_extension": ".py",
   "mimetype": "text/x-python",
   "name": "python",
   "nbconvert_exporter": "python",
   "pygments_lexer": "ipython3",
   "version": "3.9.15"
  }
 },
 "nbformat": 4,
 "nbformat_minor": 5
}
