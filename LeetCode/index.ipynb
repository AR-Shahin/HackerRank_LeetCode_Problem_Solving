{
 "cells": [
  {
   "cell_type": "code",
   "execution_count": 15,
   "id": "8212d307",
   "metadata": {},
   "outputs": [
    {
     "name": "stdout",
     "output_type": "stream",
     "text": [
      "0\n"
     ]
    }
   ],
   "source": [
    "\n",
    "class Solution(object):\n",
    "    def differenceOfSum(self, nums):\n",
    "\n",
    "        temp = sum(nums)\n",
    "        n = self.another(nums)\n",
    "        s = 0\n",
    "        while n != 0:\n",
    "            r = n % 10\n",
    "            s += r\n",
    "            n = n // 10\n",
    "        return abs(temp - s)\n",
    "        \n",
    "    def another(self,nums):\n",
    "        sNum = [str(i) for i in nums]\n",
    "        \n",
    "        t =''\n",
    "        for i in sNum:\n",
    "            t += i\n",
    "        \n",
    "        return int(t)\n",
    "        \n",
    "s = Solution()\n",
    "nums = [1,2,3,4]\n",
    "print(s.differenceOfSum(nums))\n",
    "\n",
    "\n"
   ]
  },
  {
   "cell_type": "code",
   "execution_count": null,
   "id": "b20da873",
   "metadata": {},
   "outputs": [],
   "source": []
  }
 ],
 "metadata": {
  "kernelspec": {
   "display_name": "Python 3 (ipykernel)",
   "language": "python",
   "name": "python3"
  },
  "language_info": {
   "codemirror_mode": {
    "name": "ipython",
    "version": 3
   },
   "file_extension": ".py",
   "mimetype": "text/x-python",
   "name": "python",
   "nbconvert_exporter": "python",
   "pygments_lexer": "ipython3",
   "version": "3.9.15"
  }
 },
 "nbformat": 4,
 "nbformat_minor": 5
}
