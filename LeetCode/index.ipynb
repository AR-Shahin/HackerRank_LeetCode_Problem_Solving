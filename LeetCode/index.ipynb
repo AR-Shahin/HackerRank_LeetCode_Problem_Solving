{
 "cells": [
  {
   "cell_type": "code",
   "execution_count": 20,
   "id": "18693a2b",
   "metadata": {},
   "outputs": [
    {
     "name": "stdout",
     "output_type": "stream",
     "text": [
      "3\n"
     ]
    }
   ],
   "source": [
    "\n",
    "class Solution(object):\n",
    "    def maximumCount(self, nums):\n",
    "        t1,t2 = 0,0\n",
    "        for i in nums:\n",
    "            if i > 0:\n",
    "                t1 += 1\n",
    "            elif i < 0:\n",
    "                t2 += 1\n",
    "            \n",
    "        return max([t1,t2])\n",
    "        \n",
    "s = Solution()\n",
    "nums = [-3,-2,-1,0,0,1,2]\n",
    "print(s.maximumCount(nums))\n",
    "\n",
    "\n"
   ]
  },
  {
   "cell_type": "code",
   "execution_count": null,
   "id": "0e1a3e55",
   "metadata": {},
   "outputs": [],
   "source": []
  }
 ],
 "metadata": {
  "kernelspec": {
   "display_name": "Python 3 (ipykernel)",
   "language": "python",
   "name": "python3"
  },
  "language_info": {
   "codemirror_mode": {
    "name": "ipython",
    "version": 3
   },
   "file_extension": ".py",
   "mimetype": "text/x-python",
   "name": "python",
   "nbconvert_exporter": "python",
   "pygments_lexer": "ipython3",
   "version": "3.9.15"
  }
 },
 "nbformat": 4,
 "nbformat_minor": 5
}
