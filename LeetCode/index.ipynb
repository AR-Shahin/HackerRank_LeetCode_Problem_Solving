{
 "cells": [
  {
   "cell_type": "code",
   "execution_count": 15,
   "id": "d599c1a1",
   "metadata": {},
   "outputs": [
    {
     "name": "stdout",
     "output_type": "stream",
     "text": [
      "[395.26, 251.798]\n"
     ]
    }
   ],
   "source": [
    "\n",
    "class Solution():\n",
    "    def convertTemperature(self, celsius):\n",
    "        \n",
    "        return [celsius + 273.15, (celsius * 1.80) + 32.00]\n",
    "                \n",
    "    \n",
    "        \n",
    "        \n",
    "        \n",
    "s = Solution()\n",
    "celsius = 122.11\n",
    "\n",
    "print(s.convertTemperature(celsius))\n",
    "\n",
    "\n"
   ]
  },
  {
   "cell_type": "code",
   "execution_count": null,
   "id": "91966aea",
   "metadata": {},
   "outputs": [],
   "source": []
  },
  {
   "cell_type": "code",
   "execution_count": null,
   "id": "d4d9e5f2",
   "metadata": {},
   "outputs": [],
   "source": []
  },
  {
   "cell_type": "code",
   "execution_count": null,
   "id": "38ee87e3",
   "metadata": {},
   "outputs": [],
   "source": []
  }
 ],
 "metadata": {
  "kernelspec": {
   "display_name": "Python 3 (ipykernel)",
   "language": "python",
   "name": "python3"
  },
  "language_info": {
   "codemirror_mode": {
    "name": "ipython",
    "version": 3
   },
   "file_extension": ".py",
   "mimetype": "text/x-python",
   "name": "python",
   "nbconvert_exporter": "python",
   "pygments_lexer": "ipython3",
   "version": "3.9.15"
  }
 },
 "nbformat": 4,
 "nbformat_minor": 5
}
